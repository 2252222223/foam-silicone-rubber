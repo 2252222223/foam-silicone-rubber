{
 "cells": [
  {
   "cell_type": "code",
   "execution_count": null,
   "id": "ed5633c0",
   "metadata": {},
   "outputs": [],
   "source": [
    "import warnings\n",
    "warnings.filterwarnings(\"ignore\")\n",
    "from __future__ import absolute_import, division, print_function, unicode_literals\n",
    "import tensorflow as tf\n",
    "import matplotlib as mpl\n",
    "import matplotlib.pyplot as plt\n",
    "%matplotlib inline\n",
    "import numpy as np\n",
    "import os\n",
    "import pandas as pd\n",
    "from tensorflow.keras import backend as K\n",
    "import sklearn\n",
    "import logging\n",
    "import time\n",
    "from tensorflow import keras"
   ]
  },
  {
   "cell_type": "code",
   "execution_count": null,
   "id": "2723c0a6",
   "metadata": {},
   "outputs": [],
   "source": [
    "gpus = tf.config.experimental.list_physical_devices('GPU')\n",
    "print(gpus)\n",
    "for gpu in gpus:\n",
    "    tf.config.experimental.set_memory_growth(gpu, True)"
   ]
  },
  {
   "cell_type": "code",
   "execution_count": null,
   "id": "46e8e5e8",
   "metadata": {},
   "outputs": [],
   "source": [
    "def data_generator(f_path):\n",
    "    features = pd.read_excel(f_path)\n",
    "    from sklearn import preprocessing\n",
    "    from sklearn.preprocessing import MinMaxScaler\n",
    "    scaler = preprocessing.StandardScaler().fit(features)\n",
    "    print(scaler.mean_)\n",
    "    print(scaler.scale_)\n",
    "    input_features = scaler.transform(features)\n",
    "    mean = scaler.mean_\n",
    "    scale = scaler.scale_\n",
    "    train_data = []\n",
    "    train_label = []\n",
    "    for i in range(480):   \n",
    "        data1 = input_features[50*i:50*(i+1)]\n",
    "        m = data1.tolist()\n",
    "        train_data.append(m)\n",
    "    print(len(test_label))\n",
    "    print(train_data[0][0])\n",
    "    return  np.array(train_data),mean,scale"
   ]
  },
  {
   "cell_type": "code",
   "execution_count": null,
   "id": "47fb40cf",
   "metadata": {},
   "outputs": [],
   "source": [
    "f_path = 'D:\\date2\\huizong3.xls'\n",
    "train_datas,test_datas,mean,scale  = data_generator(f_path)"
   ]
  },
  {
   "cell_type": "code",
   "execution_count": null,
   "id": "f8f3892d",
   "metadata": {},
   "outputs": [],
   "source": [
    "train_datas = sklearn.utils.shuffle(train_datas)"
   ]
  },
  {
   "cell_type": "code",
   "execution_count": null,
   "id": "42f9bd52",
   "metadata": {},
   "outputs": [],
   "source": [
    "\n",
    "val_data = train_datas[:int(0.1*(len(train_datas)))]\n",
    "# train_data1 = train_datas[:int(0.1*(len(train_datas)))]\n",
    "train_data = train_datas[int(0.1*(len(train_datas))):]\n",
    "b = tf.shape(train_data)\n",
    "print(train_data.shape)"
   ]
  },
  {
   "cell_type": "code",
   "execution_count": null,
   "id": "3bb3bee4",
   "metadata": {},
   "outputs": [],
   "source": []
  },
  {
   "cell_type": "code",
   "execution_count": null,
   "id": "bf220672",
   "metadata": {},
   "outputs": [],
   "source": [
    "x = train_data[:,:,:-1]\n",
    "y = train_data[:,:,-1:]\n",
    "x_val = val_data[:,:,:-1]\n",
    "y_val = val_data[:,:,-1:]\n",
    "print(x_val.shape)\n",
    "x = tf.reshape(x,(b[0],50,6,1))\n",
    "y = tf.reshape(y,(b[0],50,1,1))\n",
    "x_val = tf.reshape(x_val,(47,50,6,1))\n",
    "y_val = tf.reshape(y_val,(47,50,1,1))"
   ]
  },
  {
   "cell_type": "code",
   "execution_count": null,
   "id": "0b5191a1",
   "metadata": {},
   "outputs": [],
   "source": []
  },
  {
   "cell_type": "code",
   "execution_count": null,
   "id": "b31c9e7a",
   "metadata": {},
   "outputs": [],
   "source": []
  },
  {
   "cell_type": "code",
   "execution_count": null,
   "id": "63911d70",
   "metadata": {},
   "outputs": [],
   "source": []
  },
  {
   "cell_type": "code",
   "execution_count": null,
   "id": "9bd158dd",
   "metadata": {},
   "outputs": [],
   "source": []
  }
 ],
 "metadata": {
  "kernelspec": {
   "display_name": "Python 3",
   "language": "python",
   "name": "python3"
  },
  "language_info": {
   "codemirror_mode": {
    "name": "ipython",
    "version": 3
   },
   "file_extension": ".py",
   "mimetype": "text/x-python",
   "name": "python",
   "nbconvert_exporter": "python",
   "pygments_lexer": "ipython3",
   "version": "3.8.3"
  }
 },
 "nbformat": 4,
 "nbformat_minor": 5
}
