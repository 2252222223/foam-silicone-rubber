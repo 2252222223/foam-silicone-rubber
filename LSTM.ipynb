{
 "cells": [
  {
   "cell_type": "code",
   "execution_count": null,
   "id": "a5266189",
   "metadata": {},
   "outputs": [],
   "source": [
    "import warnings\n",
    "warnings.filterwarnings(\"ignore\")\n",
    "from __future__ import absolute_import, division, print_function, unicode_literals\n",
    "import tensorflow as tf\n",
    "import matplotlib as mpl\n",
    "import matplotlib.pyplot as plt\n",
    "%matplotlib inline\n",
    "import numpy as np\n",
    "import os\n",
    "import pandas as pd\n",
    "from tensorflow.keras import backend as K\n",
    "import sklearn\n",
    "import logging\n",
    "import time\n",
    "from tensorflow import keras"
   ]
  },
  {
   "cell_type": "code",
   "execution_count": null,
   "id": "b69ac755",
   "metadata": {},
   "outputs": [],
   "source": [
    "gpus = tf.config.experimental.list_physical_devices('GPU')\n",
    "print(gpus)\n",
    "for gpu in gpus:\n",
    "    tf.config.experimental.set_memory_growth(gpu, True)"
   ]
  },
  {
   "cell_type": "code",
   "execution_count": null,
   "id": "f537aa1c",
   "metadata": {},
   "outputs": [],
   "source": [
    "def data_generator(f_path):\n",
    "    features = pd.read_excel(f_path)\n",
    "    from sklearn import preprocessing\n",
    "    from sklearn.preprocessing import MinMaxScaler\n",
    "    scaler = preprocessing.StandardScaler().fit(features)\n",
    "    print(scaler.mean_)\n",
    "    print(scaler.scale_)\n",
    "    input_features = scaler.transform(features)\n",
    "    mean = scaler.mean_\n",
    "    scale = scaler.scale_\n",
    "    train_data = []\n",
    "    for i in range(480):   \n",
    "        data1 = input_features[50*i:50*(i+1)]\n",
    "        m = data1.tolist()\n",
    "        train_data.append(m)\n",
    "    print(len(test_label))\n",
    "    print(train_data[0][0])\n",
    "    return  np.array(train_data),mean,scale"
   ]
  },
  {
   "cell_type": "code",
   "execution_count": null,
   "id": "9d2de88b",
   "metadata": {},
   "outputs": [],
   "source": [
    "f_path = 'D:\\date2\\huizong3.xls'\n",
    "train_datas,test_datas,mean,scale  = data_generator(f_path)"
   ]
  },
  {
   "cell_type": "code",
   "execution_count": null,
   "id": "0a1a3710",
   "metadata": {},
   "outputs": [],
   "source": [
    "train_datas = sklearn.utils.shuffle(train_datas)"
   ]
  },
  {
   "cell_type": "code",
   "execution_count": null,
   "id": "dc73251d",
   "metadata": {},
   "outputs": [],
   "source": [
    "val_data = train_datas[:int(0.1*(len(train_datas)))]\n",
    "# train_data1 = train_datas[:int(0.1*(len(train_datas)))]\n",
    "train_data = train_datas[int(0.9*(len(train_datas))):]"
   ]
  },
  {
   "cell_type": "code",
   "execution_count": null,
   "id": "d54c6716",
   "metadata": {},
   "outputs": [],
   "source": [
    "# train_data = np.vstack((train_data1,train_data2))\n",
    "# print(train_data.shape)\n",
    "a = tf.shape(train_data)\n",
    "b = tf.shape(val_data)"
   ]
  },
  {
   "cell_type": "code",
   "execution_count": null,
   "id": "d1950908",
   "metadata": {},
   "outputs": [],
   "source": [
    "x = train_data[:,:,:-1]\n",
    "y = train_data[:,:,-1:]\n",
    "x_val = val_data[:,:,:-1]\n",
    "y_val = val_data[:,:,-1:]\n",
    "print(x.shape)\n",
    "print(x_val.shape)\n",
    "x = tf.reshape(x,(a[0],50,6,1))\n",
    "y = tf.reshape(y,(a[0],50,1,1))\n",
    "x_val = tf.reshape(x_val,(b[0],50,6,1))\n",
    "y_val = tf.reshape(y_val,(b[0],50,1,1))"
   ]
  },
  {
   "cell_type": "code",
   "execution_count": null,
   "id": "da913fa9",
   "metadata": {},
   "outputs": [],
   "source": [
    "x_lstm = tf.reshape(x,(a[0],50,6))\n",
    "y_lstm = tf.reshape(y,(a[0],50,1))\n",
    "x_lstm_val = tf.reshape(x_val,(b[0],50,6))\n",
    "y_lstm_val = tf.reshape(y_val,(b[0],50,1))"
   ]
  },
  {
   "cell_type": "code",
   "execution_count": null,
   "id": "1134b7b9",
   "metadata": {},
   "outputs": [],
   "source": [
    "class Model(tf.keras.Model):\n",
    "    def train_step(self, inputs):\n",
    "        # Unpack the data. Its structure depends on your model and\n",
    "        # on what you pass to `fit()`.\n",
    "        x, y = inputs\n",
    "\n",
    "        with tf.GradientTape() as tape:\n",
    "            y_pred = self(x, training=True)  # Forward pass\n",
    "            # Compute the loss value\n",
    "            # (the loss function is configured in `compile()`)\n",
    "            loss = self.compiled_loss(y, y_pred, regularization_losses=self.losses)\n",
    "            loss = tf.reduce_mean(loss)\n",
    "\n",
    "        # Compute gradients\n",
    "        trainable_vars = self.trainable_variables\n",
    "        gradients = tape.gradient(loss, trainable_vars)\n",
    "        # Update weights\n",
    "        self.optimizer.apply_gradients(zip(gradients, trainable_vars))\n",
    "        # Update metrics (includes the metric that tracks the loss)\n",
    "        self.compiled_metrics.update_state(y, y_pred)\n",
    "        # Return a dict mapping metric names to current value\n",
    "        return {m.name: m.result() for m in self.metrics}"
   ]
  },
  {
   "cell_type": "code",
   "execution_count": null,
   "id": "e3f6d2c8",
   "metadata": {},
   "outputs": [],
   "source": [
    "inputs = keras.Input(shape=(50,6))\n",
    "rnn = keras.layers.LSTM(64, return_sequences=True,dropout=0.1,kernel_regularizer=tf.keras.regularizers.l2(0.1))(inputs)\n",
    "rnn = keras.layers.LSTM(64, return_sequences=True,dropout=0.1,kernel_regularizer=tf.keras.regularizers.l2(0.1))(rnn)\n",
    "rnn = keras.layers.LSTM(64, return_sequences=True,dropout=0.1,kernel_regularizer=tf.keras.regularizers.l2(0.1))(rnn)\n",
    "rnn = keras.layers.LSTM(64, return_sequences=True,dropout=0.1,kernel_regularizer=tf.keras.regularizers.l2(0.1))(rnn)\n",
    "fc = keras.layers.Dense(32)(rnn)\n",
    "outputs = keras.layers.Dense(1)(fc)\n",
    "model = Model(inputs, outputs)"
   ]
  },
  {
   "cell_type": "code",
   "execution_count": null,
   "id": "f5e56e9f",
   "metadata": {},
   "outputs": [],
   "source": [
    "filepath = 'D:\\data2\\\\LSTM\\\\LSTM-best.h5'\n",
    "\n",
    "checkpoint = tf.keras.callbacks.ModelCheckpoint(\n",
    "    filepath, monitor='val_mae', verbose=1, save_best_only=True,\n",
    "    save_weights_only=False, mode='auto', save_freq='epoch',\n",
    "    options=None\n",
    ")\n",
    "\n",
    "\n",
    "model.compile(optimizer=tf.keras.optimizers.Adam(lr=0.001), loss=\"mae\", metrics=[\"mae\"])\n",
    "history = model.fit(x_lstm, y_lstm, epochs=500,validation_data=(x_lstm_val,y_lstm_val),batch_size=64, callbacks = [checkpoint])"
   ]
  },
  {
   "cell_type": "code",
   "execution_count": null,
   "id": "23d0ea55",
   "metadata": {},
   "outputs": [],
   "source": []
  },
  {
   "cell_type": "code",
   "execution_count": null,
   "id": "e63bf610",
   "metadata": {},
   "outputs": [],
   "source": []
  },
  {
   "cell_type": "code",
   "execution_count": null,
   "id": "f6231e02",
   "metadata": {},
   "outputs": [],
   "source": []
  }
 ],
 "metadata": {
  "kernelspec": {
   "display_name": "Python 3",
   "language": "python",
   "name": "python3"
  },
  "language_info": {
   "codemirror_mode": {
    "name": "ipython",
    "version": 3
   },
   "file_extension": ".py",
   "mimetype": "text/x-python",
   "name": "python",
   "nbconvert_exporter": "python",
   "pygments_lexer": "ipython3",
   "version": "3.8.3"
  }
 },
 "nbformat": 4,
 "nbformat_minor": 5
}
