{
 "cells": [
  {
   "cell_type": "code",
   "execution_count": 1,
   "id": "3d670195",
   "metadata": {},
   "outputs": [],
   "source": [
    "import warnings\n",
    "warnings.filterwarnings(\"ignore\")\n",
    "from __future__ import absolute_import, division, print_function, unicode_literals\n",
    "import tensorflow as tf\n",
    "import matplotlib as mpl\n",
    "import matplotlib.pyplot as plt\n",
    "%matplotlib inline\n",
    "import numpy as np\n",
    "import pandas as pd\n",
    "from tensorflow.keras import backend as K\n",
    "import sklearn\n",
    "import logging\n",
    "from tensorflow import keras"
   ]
  },
  {
   "cell_type": "code",
   "execution_count": null,
   "id": "3bdf8186",
   "metadata": {},
   "outputs": [],
   "source": [
    "gpus = tf.config.experimental.list_physical_devices('GPU')\n",
    "print(gpus)\n",
    "for gpu in gpus:\n",
    "    tf.config.experimental.set_memory_growth(gpu, True)"
   ]
  },
  {
   "cell_type": "code",
   "execution_count": null,
   "id": "f28e01f1",
   "metadata": {},
   "outputs": [],
   "source": [
    "### data preprocessing \n",
    "def data_generator(f_path):\n",
    "    features = pd.read_excel(f_path)\n",
    "    from sklearn import preprocessing\n",
    "    from sklearn.preprocessing import MinMaxScaler\n",
    "    scaler = preprocessing.StandardScaler().fit(features)\n",
    "    print(scaler.mean_)\n",
    "    print(scaler.scale_)\n",
    "    input_features = scaler.transform(features)\n",
    "    mean = scaler.mean_\n",
    "    scale = scaler.scale_\n",
    "    train_data = []\n",
    "    train_label = []\n",
    "    test_data = []\n",
    "    test_label =[]\n",
    "    for i in range(480):   \n",
    "            data1 = input_features[50*i:50*(i+1)]\n",
    "            m = data1.tolist()\n",
    "            train_data.append(m)\n",
    "    print(len(test_label))\n",
    "    print(train_data[0][0])\n",
    "    return  np.array(train_data),mean,scale"
   ]
  },
  {
   "cell_type": "code",
   "execution_count": null,
   "id": "5bcd87e3",
   "metadata": {},
   "outputs": [],
   "source": [
    "### Read raw data\n",
    "f_path = 'D:\\date2\\huizong3.xls'\n",
    "train_datas,test_datas,mean,scale  = data_generator(f_path)"
   ]
  },
  {
   "cell_type": "code",
   "execution_count": null,
   "id": "e6eb0e86",
   "metadata": {},
   "outputs": [],
   "source": [
    "train_datas = sklearn.utils.shuffle(train_datas)\n"
   ]
  },
  {
   "cell_type": "code",
   "execution_count": null,
   "id": "be91134a",
   "metadata": {},
   "outputs": [],
   "source": [
    "\n",
    "val_data = train_datas[int(0.9*(len(train_datas))):]\n",
    "train_data = train_datas[:int(0.9*(len(train_datas)))]\n",
    "# train_data2 = train_datas[int(0.6*(len(train_datas))):]\n",
    "print(train_data.shape)"
   ]
  },
  {
   "cell_type": "code",
   "execution_count": null,
   "id": "88298eed",
   "metadata": {},
   "outputs": [],
   "source": [
    "# train_data = np.vstack((train_data1,train_data2))\n",
    "# print(train_data.shape)"
   ]
  },
  {
   "cell_type": "code",
   "execution_count": null,
   "id": "aa222f4a",
   "metadata": {},
   "outputs": [],
   "source": [
    "\n",
    "x = train_data[:,:,:-1]\n",
    "y = train_data[:,:,-1:]\n",
    "x_val = val_data[:,:,:-1]\n",
    "y_val = val_data[:,:,-1:]\n",
    "k = tf.shape(x)\n",
    "print(x.shape)\n",
    "x = tf.reshape(x,(k[0],50,6,1))\n",
    "y = tf.reshape(y,(k[0],50,1,1))\n",
    "x_val = tf.reshape(x_val,(48,50,6,1))\n",
    "y_val = tf.reshape(y_val,(48,50,1,1))"
   ]
  },
  {
   "cell_type": "code",
   "execution_count": null,
   "id": "bd0c1ae8",
   "metadata": {},
   "outputs": [],
   "source": [
    "#CBLSTM building \n",
    "class Model(tf.keras.Model):\n",
    "    def train_step(self, inputs):\n",
    "        # Unpack the data. Its structure depends on your model and\n",
    "        # on what you pass to `fit()`.\n",
    "        x, y = inputs\n",
    "\n",
    "        with tf.GradientTape() as tape:\n",
    "            y_pred = self(x, training=True)  # Forward pass\n",
    "            # Compute the loss value\n",
    "            # (the loss function is configured in `compile()`)\n",
    "            loss = self.compiled_loss(y, y_pred, regularization_losses=self.losses)\n",
    "            loss = tf.reduce_mean(loss)\n",
    "\n",
    "        # Compute gradients\n",
    "        trainable_vars = self.trainable_variables\n",
    "        gradients = tape.gradient(loss, trainable_vars)\n",
    "        # Update weights\n",
    "        self.optimizer.apply_gradients(zip(gradients, trainable_vars))\n",
    "        # Update metrics (includes the metric that tracks the loss)\n",
    "        self.compiled_metrics.update_state(y, y_pred)\n",
    "        # Return a dict mapping metric names to current value\n",
    "        return {m.name: m.result() for m in self.metrics}\n",
    "inputs = keras.Input(shape=(50,6,1))\n",
    "cnn = inputs[:,:,1:]\n",
    "x2=inputs[:,:,0:1]\n",
    "cnn = keras.layers.Conv2D(50,2, activation='relu')(cnn)\n",
    "cnn = keras.layers.Conv2D(50,2, activation='relu')(cnn)\n",
    "cnn = keras.layers.Conv2D(50,2, activation='relu')(cnn)\n",
    "cnn = keras.layers.Conv2D(50,2, activation='relu')(cnn)\n",
    "a = tf.shape(cnn)\n",
    "print(cnn.shape)\n",
    "cnn = tf.reshape(cnn,(a[0],2300))\n",
    "cnn = keras.layers.Dense(50)(cnn)\n",
    "print(cnn.shape)\n",
    "x2 = tf.reshape(x2,(a[0],50,1))\n",
    "cnn = tf.reshape(cnn,[a[0],50,1])\n",
    "rnn = tf.keras.layers.concatenate([cnn,x2],axis=-1)\n",
    "rnn = tf.keras.layers.Bidirectional(keras.layers.LSTM(64, return_sequences=True,dropout=0.1,kernel_regularizer=tf.keras.regularizers.l2(0.1)))(rnn)\n",
    "rnn = tf.keras.layers.Bidirectional(keras.layers.LSTM(64, return_sequences=True,dropout=0.1,kernel_regularizer=tf.keras.regularizers.l2(0.1)))(rnn)\n",
    "rnn = tf.keras.layers.Bidirectional(keras.layers.LSTM(64, return_sequences=True,dropout=0.1,kernel_regularizer=tf.keras.regularizers.l2(0.1)))(rnn)\n",
    "rnn = tf.keras.layers.Bidirectional(keras.layers.LSTM(64, return_sequences=True,dropout=0.1,kernel_regularizer=tf.keras.regularizers.l2(0.1)))(rnn)\n",
    "print(rnn.shape)\n",
    "fc = keras.layers.Dense(32)(rnn)\n",
    "outputs = keras.layers.Dense(1)(fc)\n",
    "model = Model(inputs, outputs)"
   ]
  },
  {
   "cell_type": "code",
   "execution_count": null,
   "id": "e02c9f4b",
   "metadata": {},
   "outputs": [],
   "source": [
    "# model training\n",
    "filepath = 'D:\\data2\\\\CBLSTM-best.h5'\n",
    "\n",
    "checkpoint = tf.keras.callbacks.ModelCheckpoint(\n",
    "    filepath, monitor='val_mae', verbose=1, save_best_only=True,\n",
    "    save_weights_only=False, mode='auto', save_freq='epoch',\n",
    "    options=None\n",
    ")\n",
    "\n",
    "\n",
    "model.compile(optimizer=tf.keras.optimizers.Adam(lr=0.001), loss=\"mae\", metrics=[\"mae\"])\n",
    "history = model.fit(x, y, epochs=300,validation_data=(x_val,y_val),batch_size=64, callbacks = [checkpoint])"
   ]
  }
 ],
 "metadata": {
  "kernelspec": {
   "display_name": "Python 3",
   "language": "python",
   "name": "python3"
  },
  "language_info": {
   "codemirror_mode": {
    "name": "ipython",
    "version": 3
   },
   "file_extension": ".py",
   "mimetype": "text/x-python",
   "name": "python",
   "nbconvert_exporter": "python",
   "pygments_lexer": "ipython3",
   "version": "3.8.3"
  }
 },
 "nbformat": 4,
 "nbformat_minor": 5
}
